{
  "nbformat": 4,
  "nbformat_minor": 0,
  "metadata": {
    "colab": {
      "provenance": []
    },
    "kernelspec": {
      "name": "python3",
      "display_name": "Python 3"
    },
    "language_info": {
      "name": "python"
    }
  },
  "cells": [
    {
      "cell_type": "code",
      "execution_count": null,
      "metadata": {
        "id": "GYLjRPQEBRBo"
      },
      "outputs": [],
      "source": [
        "!pip install pandas matplotlib"
      ]
    },
    {
      "cell_type": "code",
      "source": [
        "import pandas as pd\n",
        "\n",
        "df = pd.read_csv(\"MOCK_DATA.csv\")\n",
        "df.sort_values(by=\"timestamp\", inplace=True)\n",
        "df"
      ],
      "metadata": {
        "id": "Z3v5jtatBUoU"
      },
      "execution_count": null,
      "outputs": []
    },
    {
      "cell_type": "code",
      "source": [
        "import matplotlib.pyplot as plt\n",
        "\n",
        "plt.figure(figsize=(20, 20))\n",
        "plt.plot(df['timestamp'], df['cpu_utilization'], label='Data')\n",
        "\n",
        "plt.title('Plot for CPU utilization')\n",
        "plt.xlabel('Time')\n",
        "plt.ylabel('CPU utilization')\n",
        "plt.grid(True)\n",
        "plt.legend()\n",
        "\n",
        "plt.show()"
      ],
      "metadata": {
        "id": "z2wq3iLxDPIi"
      },
      "execution_count": null,
      "outputs": []
    },
    {
      "cell_type": "code",
      "source": [],
      "metadata": {
        "id": "hSZlW__ZLtBR"
      },
      "execution_count": null,
      "outputs": []
    }
  ]
}