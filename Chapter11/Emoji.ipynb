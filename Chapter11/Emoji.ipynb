{
  "nbformat": 4,
  "nbformat_minor": 0,
  "metadata": {
    "colab": {
      "provenance": []
    },
    "kernelspec": {
      "name": "python3",
      "display_name": "Python 3"
    },
    "language_info": {
      "name": "python"
    }
  },
  "cells": [
    {
      "cell_type": "code",
      "execution_count": null,
      "metadata": {
        "id": "9BkhUmnRYibB"
      },
      "outputs": [],
      "source": [
        "user_data = {\n",
        "    'username': 'user_with_emoji😊',\n",
        "}"
      ]
    },
    {
      "cell_type": "code",
      "source": [],
      "metadata": {
        "id": "AMRL8K_efh9e"
      },
      "execution_count": null,
      "outputs": []
    },
    {
      "cell_type": "code",
      "source": [
        "import json\n",
        "\n",
        "with open('sample.json', 'w', encoding='utf-8') as file:\n",
        "        json.dump(user_data, file, ensure_ascii=False, indent=2)"
      ],
      "metadata": {
        "id": "s3gt6mYMY61W"
      },
      "execution_count": null,
      "outputs": []
    }
  ]
}